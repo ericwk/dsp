{
 "cells": [
  {
   "cell_type": "markdown",
   "metadata": {},
   "source": [
    "Topic:  **Challenge Set 1**  \n",
    "Subject:  Explore MTA turnstile data  \n",
    "Date:  04/16/2018  \n",
    "Name:  Eric Kleinschmidt  \n",
    "Worked with: Yajas Dwivedi"
   ]
  },
  {
   "cell_type": "code",
   "execution_count": 1,
   "metadata": {},
   "outputs": [
    {
     "name": "stdout",
     "output_type": "stream",
     "text": [
      "Python version: 3.6.1 |Anaconda 4.4.0 (x86_64)| (default, May 11 2017, 13:04:09) \n",
      "[GCC 4.2.1 Compatible Apple LLVM 6.0 (clang-600.0.57)]\n",
      "Pandas version 0.20.1\n",
      "Numpy version 1.12.1\n"
     ]
    }
   ],
   "source": [
    "import sys\n",
    "import numpy as np\n",
    "import pandas as pd\n",
    "import matplotlib.pyplot as plt\n",
    "% matplotlib inline\n",
    "\n",
    "print(\"Python version:\", sys.version)\n",
    "print(\"Pandas version\", pd.__version__)\n",
    "print(\"Numpy version\", np.__version__)"
   ]
  },
  {
   "cell_type": "markdown",
   "metadata": {},
   "source": [
    "MTA turnstile data is available in comma delimited text files [here](http://web.mta.info/developers/turnstile.html).  Each text file contains data for one week ending on the day before the date given in the file name.\n",
    "\n",
    "Information about the data files can be found [here](https://data.ny.gov/Transportation/Turnstile-Usage-Data-2016/ekwu-khcy). \n",
    "\n",
    "One weekly data file will be downloaded and entered into a pandas dataframe on which the remaining steps will be carried out.  Additional or different weeks could be added to the dataframe to extend the anlysis to larger or different time frames respectively."
   ]
  },
  {
   "cell_type": "code",
   "execution_count": 2,
   "metadata": {},
   "outputs": [
    {
     "data": {
      "text/html": [
       "<div>\n",
       "<style>\n",
       "    .dataframe thead tr:only-child th {\n",
       "        text-align: right;\n",
       "    }\n",
       "\n",
       "    .dataframe thead th {\n",
       "        text-align: left;\n",
       "    }\n",
       "\n",
       "    .dataframe tbody tr th {\n",
       "        vertical-align: top;\n",
       "    }\n",
       "</style>\n",
       "<table border=\"1\" class=\"dataframe\">\n",
       "  <thead>\n",
       "    <tr style=\"text-align: right;\">\n",
       "      <th></th>\n",
       "      <th>C/A</th>\n",
       "      <th>UNIT</th>\n",
       "      <th>SCP</th>\n",
       "      <th>STATION</th>\n",
       "      <th>LINENAME</th>\n",
       "      <th>DIVISION</th>\n",
       "      <th>DATE</th>\n",
       "      <th>TIME</th>\n",
       "      <th>DESC</th>\n",
       "      <th>ENTRIES</th>\n",
       "      <th>EXITS</th>\n",
       "    </tr>\n",
       "  </thead>\n",
       "  <tbody>\n",
       "    <tr>\n",
       "      <th>0</th>\n",
       "      <td>A002</td>\n",
       "      <td>R051</td>\n",
       "      <td>02-00-00</td>\n",
       "      <td>59 ST</td>\n",
       "      <td>NQR456W</td>\n",
       "      <td>BMT</td>\n",
       "      <td>03/24/2018</td>\n",
       "      <td>00:00:00</td>\n",
       "      <td>REGULAR</td>\n",
       "      <td>6559322</td>\n",
       "      <td>2221550</td>\n",
       "    </tr>\n",
       "    <tr>\n",
       "      <th>1</th>\n",
       "      <td>A002</td>\n",
       "      <td>R051</td>\n",
       "      <td>02-00-00</td>\n",
       "      <td>59 ST</td>\n",
       "      <td>NQR456W</td>\n",
       "      <td>BMT</td>\n",
       "      <td>03/24/2018</td>\n",
       "      <td>04:00:00</td>\n",
       "      <td>REGULAR</td>\n",
       "      <td>6559322</td>\n",
       "      <td>2221550</td>\n",
       "    </tr>\n",
       "  </tbody>\n",
       "</table>\n",
       "</div>"
      ],
      "text/plain": [
       "    C/A  UNIT       SCP STATION LINENAME DIVISION        DATE      TIME  \\\n",
       "0  A002  R051  02-00-00   59 ST  NQR456W      BMT  03/24/2018  00:00:00   \n",
       "1  A002  R051  02-00-00   59 ST  NQR456W      BMT  03/24/2018  04:00:00   \n",
       "\n",
       "      DESC  ENTRIES  \\\n",
       "0  REGULAR  6559322   \n",
       "1  REGULAR  6559322   \n",
       "\n",
       "   EXITS                                                                 \n",
       "0                                            2221550                     \n",
       "1                                            2221550                     "
      ]
     },
     "execution_count": 2,
     "metadata": {},
     "output_type": "execute_result"
    }
   ],
   "source": [
    "mta_data1 = pd.read_csv('http://web.mta.info/developers/data/nyct/turnstile/turnstile_180331.txt')\n",
    "mta_df1 = pd.DataFrame(mta_data1)\n",
    "mta_df1.head(2)"
   ]
  },
  {
   "cell_type": "code",
   "execution_count": 3,
   "metadata": {},
   "outputs": [
    {
     "data": {
      "text/plain": [
       "(196654, 11)"
      ]
     },
     "execution_count": 3,
     "metadata": {},
     "output_type": "execute_result"
    }
   ],
   "source": [
    "mta_df1.shape"
   ]
  },
  {
   "cell_type": "code",
   "execution_count": 4,
   "metadata": {},
   "outputs": [
    {
     "name": "stdout",
     "output_type": "stream",
     "text": [
      "<class 'pandas.core.frame.DataFrame'>\n",
      "RangeIndex: 196654 entries, 0 to 196653\n",
      "Data columns (total 11 columns):\n",
      "C/A                                                                     196654 non-null object\n",
      "UNIT                                                                    196654 non-null object\n",
      "SCP                                                                     196654 non-null object\n",
      "STATION                                                                 196654 non-null object\n",
      "LINENAME                                                                196654 non-null object\n",
      "DIVISION                                                                196654 non-null object\n",
      "DATE                                                                    196654 non-null object\n",
      "TIME                                                                    196654 non-null object\n",
      "DESC                                                                    196654 non-null object\n",
      "ENTRIES                                                                 196654 non-null int64\n",
      "EXITS                                                                   196654 non-null int64\n",
      "dtypes: int64(2), object(9)\n",
      "memory usage: 16.5+ MB\n"
     ]
    }
   ],
   "source": [
    "mta_df1.info()"
   ]
  },
  {
   "cell_type": "code",
   "execution_count": 5,
   "metadata": {},
   "outputs": [
    {
     "data": {
      "text/plain": [
       "Index(['C/A', 'UNIT', 'SCP', 'STATION', 'LINENAME', 'DIVISION', 'DATE', 'TIME',\n",
       "       'DESC', 'ENTRIES',\n",
       "       'EXITS                                                               '],\n",
       "      dtype='object')"
      ]
     },
     "execution_count": 5,
     "metadata": {},
     "output_type": "execute_result"
    }
   ],
   "source": [
    "mta_df1.columns"
   ]
  },
  {
   "cell_type": "code",
   "execution_count": 6,
   "metadata": {},
   "outputs": [
    {
     "data": {
      "text/plain": [
       "Index(['C/A', 'UNIT', 'SCP', 'STATION', 'LINENAME', 'DIVISION', 'DATE', 'TIME',\n",
       "       'DESC', 'ENTRIES', 'EXITS'],\n",
       "      dtype='object')"
      ]
     },
     "execution_count": 6,
     "metadata": {},
     "output_type": "execute_result"
    }
   ],
   "source": [
    "# We have some whitespace in at least one column name which we will remove\n",
    "mta_df1 = mta_df1.rename(columns=lambda x: x.strip())\n",
    "mta_df1.columns"
   ]
  },
  {
   "cell_type": "markdown",
   "metadata": {},
   "source": [
    "**Challenge 1** - Combine C/A, UNIT, SCP into a single string that represents a turnstile.  Since we are using pandas, we will combine (concatenate) these columns into a single column in the dataframe and drop the original columns.  We will also drop the LINENAME, DIVISION, DESC and EXITS columns because they will not be used in the next steps."
   ]
  },
  {
   "cell_type": "code",
   "execution_count": 7,
   "metadata": {},
   "outputs": [
    {
     "data": {
      "text/html": [
       "<div>\n",
       "<style>\n",
       "    .dataframe thead tr:only-child th {\n",
       "        text-align: right;\n",
       "    }\n",
       "\n",
       "    .dataframe thead th {\n",
       "        text-align: left;\n",
       "    }\n",
       "\n",
       "    .dataframe tbody tr th {\n",
       "        vertical-align: top;\n",
       "    }\n",
       "</style>\n",
       "<table border=\"1\" class=\"dataframe\">\n",
       "  <thead>\n",
       "    <tr style=\"text-align: right;\">\n",
       "      <th></th>\n",
       "      <th>STATION</th>\n",
       "      <th>DATE</th>\n",
       "      <th>TIME</th>\n",
       "      <th>ENTRIES</th>\n",
       "      <th>TURNSTILE</th>\n",
       "    </tr>\n",
       "  </thead>\n",
       "  <tbody>\n",
       "    <tr>\n",
       "      <th>0</th>\n",
       "      <td>59 ST</td>\n",
       "      <td>03/24/2018</td>\n",
       "      <td>00:00:00</td>\n",
       "      <td>6559322</td>\n",
       "      <td>A002 R051 02-00-00</td>\n",
       "    </tr>\n",
       "  </tbody>\n",
       "</table>\n",
       "</div>"
      ],
      "text/plain": [
       "  STATION        DATE      TIME  ENTRIES           TURNSTILE\n",
       "0   59 ST  03/24/2018  00:00:00  6559322  A002 R051 02-00-00"
      ]
     },
     "execution_count": 7,
     "metadata": {},
     "output_type": "execute_result"
    }
   ],
   "source": [
    "mta_df1['TURNSTILE'] = mta_df1['C/A'] + ' ' + mta_df1['UNIT'] + ' ' + mta_df1['SCP']\n",
    "mta_df1 = mta_df1.drop(['C/A', 'UNIT', 'SCP', 'LINENAME', 'DIVISION', 'DESC', 'EXITS'], axis=1)\n",
    "mta_df1.head(1)"
   ]
  },
  {
   "cell_type": "markdown",
   "metadata": {},
   "source": [
    "**Challenge 2** - Combine DATE and TIME into a single string and convert to a datetime object in a new column ."
   ]
  },
  {
   "cell_type": "code",
   "execution_count": 8,
   "metadata": {},
   "outputs": [
    {
     "data": {
      "text/html": [
       "<div>\n",
       "<style>\n",
       "    .dataframe thead tr:only-child th {\n",
       "        text-align: right;\n",
       "    }\n",
       "\n",
       "    .dataframe thead th {\n",
       "        text-align: left;\n",
       "    }\n",
       "\n",
       "    .dataframe tbody tr th {\n",
       "        vertical-align: top;\n",
       "    }\n",
       "</style>\n",
       "<table border=\"1\" class=\"dataframe\">\n",
       "  <thead>\n",
       "    <tr style=\"text-align: right;\">\n",
       "      <th></th>\n",
       "      <th>STATION</th>\n",
       "      <th>DATE</th>\n",
       "      <th>TIME</th>\n",
       "      <th>ENTRIES</th>\n",
       "      <th>TURNSTILE</th>\n",
       "      <th>DATETIME</th>\n",
       "    </tr>\n",
       "  </thead>\n",
       "  <tbody>\n",
       "    <tr>\n",
       "      <th>0</th>\n",
       "      <td>59 ST</td>\n",
       "      <td>03/24/2018</td>\n",
       "      <td>00:00:00</td>\n",
       "      <td>6559322</td>\n",
       "      <td>A002 R051 02-00-00</td>\n",
       "      <td>2018-03-24 00:00:00</td>\n",
       "    </tr>\n",
       "    <tr>\n",
       "      <th>1</th>\n",
       "      <td>59 ST</td>\n",
       "      <td>03/24/2018</td>\n",
       "      <td>04:00:00</td>\n",
       "      <td>6559322</td>\n",
       "      <td>A002 R051 02-00-00</td>\n",
       "      <td>2018-03-24 04:00:00</td>\n",
       "    </tr>\n",
       "  </tbody>\n",
       "</table>\n",
       "</div>"
      ],
      "text/plain": [
       "  STATION        DATE      TIME  ENTRIES           TURNSTILE  \\\n",
       "0   59 ST  03/24/2018  00:00:00  6559322  A002 R051 02-00-00   \n",
       "1   59 ST  03/24/2018  04:00:00  6559322  A002 R051 02-00-00   \n",
       "\n",
       "             DATETIME  \n",
       "0 2018-03-24 00:00:00  \n",
       "1 2018-03-24 04:00:00  "
      ]
     },
     "execution_count": 8,
     "metadata": {},
     "output_type": "execute_result"
    }
   ],
   "source": [
    "mta_df1[\"DATETIME\"] = pd.to_datetime(mta_df1.DATE + \" \" + mta_df1.TIME, format=\"%m/%d/%Y %H:%M:%S\")\n",
    "mta_df1.head(2)"
   ]
  },
  {
   "cell_type": "markdown",
   "metadata": {},
   "source": [
    "**Challenge 3** - Convert the cumulative counter value (integer) in ENTRIES for every four hours per day to show only a single value of entries per day per turnstile.  To do this, we will create new columns to collect aggregates of count, min and max grouped by day (DATE) and subtract the min from the max to result in daily entries in a new dataframe."
   ]
  },
  {
   "cell_type": "code",
   "execution_count": 9,
   "metadata": {},
   "outputs": [
    {
     "data": {
      "text/html": [
       "<div>\n",
       "<style>\n",
       "    .dataframe thead tr:only-child th {\n",
       "        text-align: right;\n",
       "    }\n",
       "\n",
       "    .dataframe thead th {\n",
       "        text-align: left;\n",
       "    }\n",
       "\n",
       "    .dataframe tbody tr th {\n",
       "        vertical-align: top;\n",
       "    }\n",
       "</style>\n",
       "<table border=\"1\" class=\"dataframe\">\n",
       "  <thead>\n",
       "    <tr style=\"text-align: right;\">\n",
       "      <th></th>\n",
       "      <th>DATE</th>\n",
       "      <th>STATION</th>\n",
       "      <th>TURNSTILE</th>\n",
       "      <th>count</th>\n",
       "      <th>min</th>\n",
       "      <th>max</th>\n",
       "      <th>NUMBER_OF_ENTRIES</th>\n",
       "    </tr>\n",
       "  </thead>\n",
       "  <tbody>\n",
       "    <tr>\n",
       "      <th>0</th>\n",
       "      <td>03/24/2018</td>\n",
       "      <td>1 AV</td>\n",
       "      <td>H007 R248 00-00-00</td>\n",
       "      <td>6</td>\n",
       "      <td>13346619</td>\n",
       "      <td>13349128</td>\n",
       "      <td>2509</td>\n",
       "    </tr>\n",
       "    <tr>\n",
       "      <th>1</th>\n",
       "      <td>03/24/2018</td>\n",
       "      <td>1 AV</td>\n",
       "      <td>H007 R248 00-00-01</td>\n",
       "      <td>6</td>\n",
       "      <td>58559761</td>\n",
       "      <td>58562945</td>\n",
       "      <td>3184</td>\n",
       "    </tr>\n",
       "  </tbody>\n",
       "</table>\n",
       "</div>"
      ],
      "text/plain": [
       "         DATE STATION           TURNSTILE  count       min       max  \\\n",
       "0  03/24/2018    1 AV  H007 R248 00-00-00      6  13346619  13349128   \n",
       "1  03/24/2018    1 AV  H007 R248 00-00-01      6  58559761  58562945   \n",
       "\n",
       "   NUMBER_OF_ENTRIES  \n",
       "0               2509  \n",
       "1               3184  "
      ]
     },
     "execution_count": 9,
     "metadata": {},
     "output_type": "execute_result"
    }
   ],
   "source": [
    "mta_daily_df1 = mta_df1.groupby(['DATE','STATION','TURNSTILE']).ENTRIES.agg(['count','min','max'])\n",
    "mta_daily_df1['NUMBER_OF_ENTRIES'] = mta_daily_df1['max'] - mta_daily_df1['min']\n",
    "mta_daily_df1.reset_index(inplace=True)\n",
    "mta_daily_df1.head(2)"
   ]
  },
  {
   "cell_type": "code",
   "execution_count": 10,
   "metadata": {},
   "outputs": [
    {
     "data": {
      "text/plain": [
       "(32890, 7)"
      ]
     },
     "execution_count": 10,
     "metadata": {},
     "output_type": "execute_result"
    }
   ],
   "source": [
    "mta_daily_df1.shape"
   ]
  },
  {
   "cell_type": "code",
   "execution_count": 11,
   "metadata": {},
   "outputs": [
    {
     "data": {
      "text/plain": [
       "6     31911\n",
       "5       800\n",
       "7        72\n",
       "8        48\n",
       "4        22\n",
       "3        15\n",
       "12        7\n",
       "10        7\n",
       "2         5\n",
       "1         3\n",
       "Name: count, dtype: int64"
      ]
     },
     "execution_count": 11,
     "metadata": {},
     "output_type": "execute_result"
    }
   ],
   "source": [
    "# We would expect a count of 6 for each turnstile in this dataset, one for each four hour increment of the day\n",
    "# This is true for 31911 of the 32890 rows in the dataset or 97% of the data.\n",
    "# We will need to review the data that does not follow this assumption to decide how to deal with it for analysis\n",
    "mta_daily_df1['count'].value_counts()"
   ]
  },
  {
   "cell_type": "markdown",
   "metadata": {},
   "source": [
    "**Challenge 4** - Plot the daily time series for a turnstile.  We will use a filter for one turnstile at one station to select NUMBER_OF_ENTRIES values in a new dataframe to plot by DATE."
   ]
  },
  {
   "cell_type": "code",
   "execution_count": 12,
   "metadata": {},
   "outputs": [
    {
     "name": "stderr",
     "output_type": "stream",
     "text": [
      "/Users/ericwk/anaconda/lib/python3.6/site-packages/ipykernel_launcher.py:2: SettingWithCopyWarning: \n",
      "A value is trying to be set on a copy of a slice from a DataFrame.\n",
      "Try using .loc[row_indexer,col_indexer] = value instead\n",
      "\n",
      "See the caveats in the documentation: http://pandas.pydata.org/pandas-docs/stable/indexing.html#indexing-view-versus-copy\n",
      "  \n"
     ]
    },
    {
     "data": {
      "text/plain": [
       "<matplotlib.text.Text at 0x113ecdeb8>"
      ]
     },
     "execution_count": 12,
     "metadata": {},
     "output_type": "execute_result"
    },
    {
     "data": {
      "image/png": "[encoded data removed]",
      "text/plain": [
       "<matplotlib.figure.Figure at 0x1165ede80>"
      ]
     },
     "metadata": {},
     "output_type": "display_data"
    }
   ],
   "source": [
    "df_one_turnstile = mta_daily_df1[(mta_daily_df1.STATION == '1 AV') & (mta_daily_df1.TURNSTILE == 'H007 R248 00-00-00')]\n",
    "df_one_turnstile['DATETIME'] = pd.to_datetime(df_one_turnstile.DATE, format=\"%m/%d/%Y\")\n",
    "plt.figure(figsize=(10,3))\n",
    "plt.plot(df_one_turnstile['DATETIME'], df_one_turnstile[\"NUMBER_OF_ENTRIES\"])\n",
    "plt.title(\"Turnstile H007 R248 00-00-00 in 1 AV Station - Entries per Date\")"
   ]
  },
  {
   "cell_type": "markdown",
   "metadata": {},
   "source": [
    "**Challenge 5 & 6** - Create a time series of number of entries for each station per day"
   ]
  },
  {
   "cell_type": "code",
   "execution_count": 13,
   "metadata": {},
   "outputs": [
    {
     "data": {
      "text/html": [
       "<div>\n",
       "<style>\n",
       "    .dataframe thead tr:only-child th {\n",
       "        text-align: right;\n",
       "    }\n",
       "\n",
       "    .dataframe thead th {\n",
       "        text-align: left;\n",
       "    }\n",
       "\n",
       "    .dataframe tbody tr th {\n",
       "        vertical-align: top;\n",
       "    }\n",
       "</style>\n",
       "<table border=\"1\" class=\"dataframe\">\n",
       "  <thead>\n",
       "    <tr style=\"text-align: right;\">\n",
       "      <th></th>\n",
       "      <th>DATE</th>\n",
       "      <th>STATION</th>\n",
       "      <th>NUMBER_OF_ENTRIES</th>\n",
       "    </tr>\n",
       "  </thead>\n",
       "  <tbody>\n",
       "    <tr>\n",
       "      <th>0</th>\n",
       "      <td>03/24/2018</td>\n",
       "      <td>1 AV</td>\n",
       "      <td>15306</td>\n",
       "    </tr>\n",
       "    <tr>\n",
       "      <th>1</th>\n",
       "      <td>03/24/2018</td>\n",
       "      <td>103 ST</td>\n",
       "      <td>18280</td>\n",
       "    </tr>\n",
       "    <tr>\n",
       "      <th>2</th>\n",
       "      <td>03/24/2018</td>\n",
       "      <td>103 ST-CORONA</td>\n",
       "      <td>13322</td>\n",
       "    </tr>\n",
       "    <tr>\n",
       "      <th>3</th>\n",
       "      <td>03/24/2018</td>\n",
       "      <td>104 ST</td>\n",
       "      <td>872</td>\n",
       "    </tr>\n",
       "    <tr>\n",
       "      <th>4</th>\n",
       "      <td>03/24/2018</td>\n",
       "      <td>110 ST</td>\n",
       "      <td>7043</td>\n",
       "    </tr>\n",
       "  </tbody>\n",
       "</table>\n",
       "</div>"
      ],
      "text/plain": [
       "         DATE        STATION  NUMBER_OF_ENTRIES\n",
       "0  03/24/2018           1 AV              15306\n",
       "1  03/24/2018         103 ST              18280\n",
       "2  03/24/2018  103 ST-CORONA              13322\n",
       "3  03/24/2018         104 ST                872\n",
       "4  03/24/2018         110 ST               7043"
      ]
     },
     "execution_count": 13,
     "metadata": {},
     "output_type": "execute_result"
    }
   ],
   "source": [
    "df_by_station = mta_daily_df1.groupby(['DATE', 'STATION']).NUMBER_OF_ENTRIES.agg([sum])\n",
    "df_by_station.reset_index(inplace=True)\n",
    "df_by_station = df_by_station.rename(columns={'sum':'NUMBER_OF_ENTRIES'})\n",
    "df_by_station.head()"
   ]
  },
  {
   "cell_type": "markdown",
   "metadata": {},
   "source": [
    "** Challenge 7** - Plot the time series of number of entries for each station per day"
   ]
  },
  {
   "cell_type": "code",
   "execution_count": 14,
   "metadata": {},
   "outputs": [
    {
     "name": "stderr",
     "output_type": "stream",
     "text": [
      "/Users/ericwk/anaconda/lib/python3.6/site-packages/ipykernel_launcher.py:2: SettingWithCopyWarning: \n",
      "A value is trying to be set on a copy of a slice from a DataFrame.\n",
      "Try using .loc[row_indexer,col_indexer] = value instead\n",
      "\n",
      "See the caveats in the documentation: http://pandas.pydata.org/pandas-docs/stable/indexing.html#indexing-view-versus-copy\n",
      "  \n"
     ]
    },
    {
     "data": {
      "text/plain": [
       "<matplotlib.text.Text at 0x11830f6a0>"
      ]
     },
     "execution_count": 14,
     "metadata": {},
     "output_type": "execute_result"
    },
    {
     "data": {
      "image/png": "[encoded data removed]",
      "text/plain": [
       "<matplotlib.figure.Figure at 0x118334d68>"
      ]
     },
     "metadata": {},
     "output_type": "display_data"
    }
   ],
   "source": [
    "df_one_station = df_by_station[df_by_station.STATION == '1 AV']\n",
    "df_one_station['DATETIME'] = pd.to_datetime(df_one_station.DATE, format=\"%m/%d/%Y\")\n",
    "plt.figure(figsize=(10,3))\n",
    "plt.plot(df_one_station['DATETIME'], df_one_station[\"NUMBER_OF_ENTRIES\"])\n",
    "plt.title('1 AV Station - Entries per Date')"
   ]
  },
  {
   "cell_type": "markdown",
   "metadata": {},
   "source": [
    "**Challenge 8** - Make a pandas series of number of entries per day for one station for each of three more weeks of data."
   ]
  },
  {
   "cell_type": "code",
   "execution_count": 15,
   "metadata": {},
   "outputs": [
    {
     "name": "stderr",
     "output_type": "stream",
     "text": [
      "/Users/ericwk/anaconda/lib/python3.6/site-packages/ipykernel_launcher.py:15: SettingWithCopyWarning: \n",
      "A value is trying to be set on a copy of a slice from a DataFrame.\n",
      "Try using .loc[row_indexer,col_indexer] = value instead\n",
      "\n",
      "See the caveats in the documentation: http://pandas.pydata.org/pandas-docs/stable/indexing.html#indexing-view-versus-copy\n",
      "  from ipykernel import kernelapp as app\n"
     ]
    },
    {
     "data": {
      "image/png": "[encoded data removed]",
      "text/plain": [
       "<matplotlib.figure.Figure at 0x116601240>"
      ]
     },
     "metadata": {},
     "output_type": "display_data"
    }
   ],
   "source": [
    "# Write a function to capture the code above that can be applied to any weekly data file\n",
    "def make_station_df(url):\n",
    "    data = pd.read_csv(url)\n",
    "    df = pd.DataFrame(data)\n",
    "    df = df.rename(columns=lambda x: x.strip())\n",
    "    df['TURNSTILE'] = df['C/A'] + ' ' + df['UNIT'] + ' ' + df['SCP']\n",
    "    df = df.drop(['C/A', 'UNIT', 'SCP', 'LINENAME', 'DIVISION', 'DESC', 'EXITS'], axis=1)\n",
    "    daily_df = df.groupby(['DATE','STATION','TURNSTILE']).ENTRIES.agg(['count','min','max'])\n",
    "    daily_df['NUMBER_OF_ENTRIES'] = daily_df['max'] - daily_df['min']\n",
    "    daily_df.reset_index(inplace=True)\n",
    "    df_by_station = daily_df.groupby(['DATE', 'STATION']).NUMBER_OF_ENTRIES.agg([sum])\n",
    "    df_by_station.reset_index(inplace=True)\n",
    "    df_by_station = df_by_station.rename(columns={'sum':'NUMBER_OF_ENTRIES'})\n",
    "    df_one_station = df_by_station[df_by_station.STATION == '1 AV']\n",
    "    df_one_station['DATETIME'] = pd.to_datetime(df_one_station.DATE, format=\"%m/%d/%Y\")\n",
    "    return df_one_station\n",
    "\n",
    "# Run the function on the same weekly data set as above to test\n",
    "df_one_station_1 = make_station_df('http://web.mta.info/developers/data/nyct/turnstile/turnstile_180331.txt')\n",
    "\n",
    "# Write a fuction to plot the dataframe\n",
    "def plot_df(df, plot_title):\n",
    "    plt.figure(figsize=(10,3))\n",
    "    plt.plot(df['DATETIME'], df[\"NUMBER_OF_ENTRIES\"])\n",
    "    plt.title(plot_title)\n",
    "    \n",
    "# Run the function on the same data as above to test\n",
    "# Plots are identical - functions check\n",
    "plot_df(df_one_station_1, '1 AV Station - Entries per Day - Week 03/31/18')"
   ]
  },
  {
   "cell_type": "code",
   "execution_count": 16,
   "metadata": {},
   "outputs": [
    {
     "name": "stderr",
     "output_type": "stream",
     "text": [
      "/Users/ericwk/anaconda/lib/python3.6/site-packages/ipykernel_launcher.py:15: SettingWithCopyWarning: \n",
      "A value is trying to be set on a copy of a slice from a DataFrame.\n",
      "Try using .loc[row_indexer,col_indexer] = value instead\n",
      "\n",
      "See the caveats in the documentation: http://pandas.pydata.org/pandas-docs/stable/indexing.html#indexing-view-versus-copy\n",
      "  from ipykernel import kernelapp as app\n"
     ]
    },
    {
     "data": {
      "image/png": "[encoded data removed]",
      "text/plain": [
       "<matplotlib.figure.Figure at 0x107f99ef0>"
      ]
     },
     "metadata": {},
     "output_type": "display_data"
    }
   ],
   "source": [
    "# Run function make_station_df to make dataframe from data for second week\n",
    "df_one_station_2 = make_station_df('http://web.mta.info/developers/data/nyct/turnstile/turnstile_180407.txt')\n",
    "\n",
    "# Run the plot_df function to plot the data for second week\n",
    "plot_df(df_one_station_2, '1 AV Station - Entries per Day - Week 04/07/18')"
   ]
  },
  {
   "cell_type": "code",
   "execution_count": 17,
   "metadata": {},
   "outputs": [
    {
     "name": "stderr",
     "output_type": "stream",
     "text": [
      "/Users/ericwk/anaconda/lib/python3.6/site-packages/ipykernel_launcher.py:15: SettingWithCopyWarning: \n",
      "A value is trying to be set on a copy of a slice from a DataFrame.\n",
      "Try using .loc[row_indexer,col_indexer] = value instead\n",
      "\n",
      "See the caveats in the documentation: http://pandas.pydata.org/pandas-docs/stable/indexing.html#indexing-view-versus-copy\n",
      "  from ipykernel import kernelapp as app\n"
     ]
    },
    {
     "data": {
      "image/png": "[encoded data removed]",
      "text/plain": [
       "<matplotlib.figure.Figure at 0x1189c9438>"
      ]
     },
     "metadata": {},
     "output_type": "display_data"
    }
   ],
   "source": [
    "# Run function make_station_df to make dataframe from data for third week\n",
    "df_one_station_3 = make_station_df('http://web.mta.info/developers/data/nyct/turnstile/turnstile_170513.txt')\n",
    "\n",
    "# Run the plot_df function to plot the data for third week\n",
    "plot_df(df_one_station_3, '1 AV Station - Entries per Day - Week 05/13/17')"
   ]
  },
  {
   "cell_type": "code",
   "execution_count": 18,
   "metadata": {},
   "outputs": [
    {
     "name": "stderr",
     "output_type": "stream",
     "text": [
      "/Users/ericwk/anaconda/lib/python3.6/site-packages/ipykernel_launcher.py:15: SettingWithCopyWarning: \n",
      "A value is trying to be set on a copy of a slice from a DataFrame.\n",
      "Try using .loc[row_indexer,col_indexer] = value instead\n",
      "\n",
      "See the caveats in the documentation: http://pandas.pydata.org/pandas-docs/stable/indexing.html#indexing-view-versus-copy\n",
      "  from ipykernel import kernelapp as app\n"
     ]
    },
    {
     "data": {
      "image/png": "[encoded data removed]",
      "text/plain": [
       "<matplotlib.figure.Figure at 0x1189bf160>"
      ]
     },
     "metadata": {},
     "output_type": "display_data"
    }
   ],
   "source": [
    "# Run function make_station_df to make dataframe from data for fourth week\n",
    "df_one_station_4 = make_station_df('http://web.mta.info/developers/data/nyct/turnstile/turnstile_170520.txt')\n",
    "\n",
    "# Run the plot_df function to plot the data for fourth week\n",
    "plot_df(df_one_station_4, '1 AV Station - Entries per Day - Week 05/20/17')"
   ]
  },
  {
   "cell_type": "code",
   "execution_count": 19,
   "metadata": {
    "collapsed": true
   },
   "outputs": [],
   "source": [
    "# Write function to add day column to support overlay plotting\n",
    "def add_DAY_column(df):\n",
    "    df['DAY'] = ['1', '2', '3', '4', '5', '6', '7']\n",
    "    return df\n",
    "\n",
    "df_one_station_1 = add_DAY_column(df_one_station_1)\n",
    "df_one_station_2 = add_DAY_column(df_one_station_2)\n",
    "df_one_station_3 = add_DAY_column(df_one_station_3)\n",
    "df_one_station_4 = add_DAY_column(df_one_station_4)"
   ]
  },
  {
   "cell_type": "code",
   "execution_count": 20,
   "metadata": {},
   "outputs": [
    {
     "data": {
      "text/plain": [
       "<matplotlib.text.Text at 0x107faed30>"
      ]
     },
     "execution_count": 20,
     "metadata": {},
     "output_type": "execute_result"
    },
    {
     "data": {
      "image/png": "[encoded data removed]",
      "text/plain": [
       "<matplotlib.figure.Figure at 0x1189e2da0>"
      ]
     },
     "metadata": {},
     "output_type": "display_data"
    }
   ],
   "source": [
    "# Make overlay plot all for weeks of entries for one station\n",
    "plt.figure(figsize=(10,3))\n",
    "plt.plot(df_one_station_1['DAY'], df_one_station_1[\"NUMBER_OF_ENTRIES\"])\n",
    "plt.plot(df_one_station_2['DAY'], df_one_station_2[\"NUMBER_OF_ENTRIES\"])\n",
    "plt.plot(df_one_station_3['DAY'], df_one_station_3[\"NUMBER_OF_ENTRIES\"])\n",
    "plt.plot(df_one_station_4['DAY'], df_one_station_4[\"NUMBER_OF_ENTRIES\"])\n",
    "plt.title('1 AV Station - Entries per Day of Week')"
   ]
  },
  {
   "cell_type": "markdown",
   "metadata": {},
   "source": [
    "**Challenge 9** Sum total ridership (TOTAL_ENTRIES) for each station over the four weeks above and sort them"
   ]
  },
  {
   "cell_type": "code",
   "execution_count": 21,
   "metadata": {
    "collapsed": true
   },
   "outputs": [],
   "source": [
    "'''Write a function to read the data file and make a dataframe for each of the four weeks of data \n",
    "grouped by DATE, STATION and TURNSTILE with aggregate sum of NUMBER_OF_ENTRIES'''\n",
    "\n",
    "def make_mta_df(url):\n",
    "    data = pd.read_csv(url)\n",
    "    df = pd.DataFrame(data)\n",
    "    df = df.rename(columns=lambda x: x.strip())\n",
    "    df['TURNSTILE'] = df['C/A'] + ' ' + df['UNIT'] + ' ' + df['SCP']\n",
    "    df = df.drop(['C/A', 'UNIT', 'SCP', 'LINENAME', 'DIVISION', 'DESC', 'EXITS'], axis=1)\n",
    "    daily_df = df.groupby(['DATE','STATION','TURNSTILE']).ENTRIES.agg(['count','min','max'])\n",
    "    daily_df['NUMBER_OF_ENTRIES'] = daily_df['max'] - daily_df['min']\n",
    "    # This filter removes small number of values produced by counter reset dutring the day\n",
    "    # In effect, this removes the data in rows that showed counter readings per day that were more or less than 6\n",
    "    # as mentioned above\n",
    "    daily_df = daily_df[(daily_df.NUMBER_OF_ENTRIES < 7500)] \n",
    "    daily_df.reset_index(inplace=True)\n",
    "    return daily_df\n",
    "\n",
    "df_1 = make_mta_df('http://web.mta.info/developers/data/nyct/turnstile/turnstile_180331.txt')\n",
    "df_2 = make_mta_df('http://web.mta.info/developers/data/nyct/turnstile/turnstile_180407.txt')\n",
    "df_3 = make_mta_df('http://web.mta.info/developers/data/nyct/turnstile/turnstile_170513.txt')\n",
    "df_4 = make_mta_df('http://web.mta.info/developers/data/nyct/turnstile/turnstile_170520.txt')"
   ]
  },
  {
   "cell_type": "code",
   "execution_count": 22,
   "metadata": {},
   "outputs": [
    {
     "data": {
      "text/html": [
       "<div>\n",
       "<style>\n",
       "    .dataframe thead tr:only-child th {\n",
       "        text-align: right;\n",
       "    }\n",
       "\n",
       "    .dataframe thead th {\n",
       "        text-align: left;\n",
       "    }\n",
       "\n",
       "    .dataframe tbody tr th {\n",
       "        vertical-align: top;\n",
       "    }\n",
       "</style>\n",
       "<table border=\"1\" class=\"dataframe\">\n",
       "  <thead>\n",
       "    <tr style=\"text-align: right;\">\n",
       "      <th></th>\n",
       "      <th>STATION</th>\n",
       "      <th>sum</th>\n",
       "    </tr>\n",
       "  </thead>\n",
       "  <tbody>\n",
       "    <tr>\n",
       "      <th>61</th>\n",
       "      <td>34 ST-PENN STA</td>\n",
       "      <td>3660502</td>\n",
       "    </tr>\n",
       "    <tr>\n",
       "      <th>233</th>\n",
       "      <td>GRD CNTRL-42 ST</td>\n",
       "      <td>3137797</td>\n",
       "    </tr>\n",
       "    <tr>\n",
       "      <th>59</th>\n",
       "      <td>34 ST-HERALD SQ</td>\n",
       "      <td>2648153</td>\n",
       "    </tr>\n",
       "    <tr>\n",
       "      <th>46</th>\n",
       "      <td>23 ST</td>\n",
       "      <td>2523638</td>\n",
       "    </tr>\n",
       "    <tr>\n",
       "      <th>68</th>\n",
       "      <td>42 ST-PORT AUTH</td>\n",
       "      <td>2289811</td>\n",
       "    </tr>\n",
       "    <tr>\n",
       "      <th>14</th>\n",
       "      <td>14 ST-UNION SQ</td>\n",
       "      <td>2268975</td>\n",
       "    </tr>\n",
       "    <tr>\n",
       "      <th>226</th>\n",
       "      <td>FULTON ST</td>\n",
       "      <td>2128021</td>\n",
       "    </tr>\n",
       "    <tr>\n",
       "      <th>353</th>\n",
       "      <td>TIMES SQ-42 ST</td>\n",
       "      <td>2025969</td>\n",
       "    </tr>\n",
       "    <tr>\n",
       "      <th>110</th>\n",
       "      <td>86 ST</td>\n",
       "      <td>1922081</td>\n",
       "    </tr>\n",
       "    <tr>\n",
       "      <th>9</th>\n",
       "      <td>125 ST</td>\n",
       "      <td>1827359</td>\n",
       "    </tr>\n",
       "  </tbody>\n",
       "</table>\n",
       "</div>"
      ],
      "text/plain": [
       "             STATION      sum\n",
       "61    34 ST-PENN STA  3660502\n",
       "233  GRD CNTRL-42 ST  3137797\n",
       "59   34 ST-HERALD SQ  2648153\n",
       "46             23 ST  2523638\n",
       "68   42 ST-PORT AUTH  2289811\n",
       "14    14 ST-UNION SQ  2268975\n",
       "226        FULTON ST  2128021\n",
       "353   TIMES SQ-42 ST  2025969\n",
       "110            86 ST  1922081\n",
       "9             125 ST  1827359"
      ]
     },
     "execution_count": 22,
     "metadata": {},
     "output_type": "execute_result"
    }
   ],
   "source": [
    "combined_df = pd.concat([df_1, df_2, df_3, df_4], axis=0)\n",
    "combined_df_by_station = combined_df.groupby(['STATION']).NUMBER_OF_ENTRIES.agg([sum])\n",
    "combined_df_by_station.reset_index(inplace=True)\n",
    "combined_df_by_station.sort_values('sum', ascending=False, inplace=True)\n",
    "combined_df_by_station.head(10)"
   ]
  },
  {
   "cell_type": "markdown",
   "metadata": {},
   "source": [
    "**Challenge 10** Plot as a histogram"
   ]
  },
  {
   "cell_type": "code",
   "execution_count": 23,
   "metadata": {},
   "outputs": [
    {
     "data": {
      "text/plain": [
       "<matplotlib.text.Text at 0x118533da0>"
      ]
     },
     "execution_count": 23,
     "metadata": {},
     "output_type": "execute_result"
    },
    {
     "data": {
      "image/png": "[encoded data removed]",
      "text/plain": [
       "<matplotlib.figure.Figure at 0x1148bce80>"
      ]
     },
     "metadata": {},
     "output_type": "display_data"
    }
   ],
   "source": [
    "plt.hist(combined_df_by_station['sum'])\n",
    "plt.xticks(rotation=45)\n",
    "plt.title(\"Distribution of Individual Station People Volumes Over Four Weeks\")"
   ]
  },
  {
   "cell_type": "code",
   "execution_count": null,
   "metadata": {
    "collapsed": true
   },
   "outputs": [],
   "source": []
  }
 ],
 "metadata": {
  "kernelspec": {
   "display_name": "Python 3",
   "language": "python",
   "name": "python3"
  },
  "language_info": {
   "codemirror_mode": {
    "name": "ipython",
    "version": 3
   },
   "file_extension": ".py",
   "mimetype": "text/x-python",
   "name": "python",
   "nbconvert_exporter": "python",
   "pygments_lexer": "ipython3",
   "version": "3.6.1"
  }
 },
 "nbformat": 4,
 "nbformat_minor": 2
}
